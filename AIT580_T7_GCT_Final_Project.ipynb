{
 "cells": [
  {
   "cell_type": "markdown",
   "id": "a3f9a9c3",
   "metadata": {},
   "source": [
    "# Analysis of the Diamond Market"
   ]
  },
  {
   "cell_type": "code",
   "execution_count": 183,
   "id": "07dac4d3",
   "metadata": {},
   "outputs": [],
   "source": [
    "#import packages\n",
    "import pandas as pd\n",
    "import numpy as np\n",
    "import matplotlib.pyplot as plt\n",
    "from pandas.plotting import scatter_matrix\n",
    "from sklearn.linear_model import LinearRegression\n",
    "from sklearn.metrics import mean_squared_error\n",
    "from sklearn.model_selection import train_test_split"
   ]
  },
  {
   "cell_type": "code",
   "execution_count": 149,
   "id": "b521c3cc",
   "metadata": {},
   "outputs": [
    {
     "data": {
      "text/plain": [
       "<bound method NDFrame.head of        carat        cut color clarity  depth  table    price     x     y     z\n",
       "0       1.50       Fair     G     SI1   64.5   57.0  10352.0  7.15  7.09  4.59\n",
       "1       0.70      Ideal     E     VS2   61.4   57.0   2274.0  5.72  5.78  3.53\n",
       "2       1.22    Premium     G     VS1   61.3   58.0   8779.0  6.91  6.89  4.23\n",
       "3       0.51    Premium     E     VS2   62.5   60.0   1590.0  5.08  5.10  3.18\n",
       "4       2.02  Very Good     J     SI2   59.2   60.0  11757.0  8.27  8.39  4.91\n",
       "...      ...        ...   ...     ...    ...    ...      ...   ...   ...   ...\n",
       "49995   2.01    Premium     I     SI1   62.4   61.0  15707.0  8.01  7.99  4.99\n",
       "49996   0.80    Premium     G      IF   62.6   58.0   4193.0  5.93  5.89  3.70\n",
       "49997   0.90  Very Good     F     SI2   61.4   62.0   3770.0  6.11  6.20  3.78\n",
       "49998   1.24      Ideal     F     SI2   61.4   58.0   6503.0  6.85  6.90  4.22\n",
       "49999   0.70      Ideal     I    VVS1   61.4   55.0   2489.0  5.70  5.76  3.52\n",
       "\n",
       "[50000 rows x 10 columns]>"
      ]
     },
     "execution_count": 149,
     "metadata": {},
     "output_type": "execute_result"
    }
   ],
   "source": [
    "#load the file into a dataframe\n",
    "data = pd.read_csv('DiamondData.csv')\n",
    "data.head"
   ]
  },
  {
   "cell_type": "markdown",
   "id": "7d31a3a9",
   "metadata": {},
   "source": [
    "## Cleaning the data"
   ]
  },
  {
   "cell_type": "code",
   "execution_count": 150,
   "id": "a1ab09cb",
   "metadata": {},
   "outputs": [],
   "source": [
    "#remove all leading and trailing spaces in the data\n",
    "data.columns = data.columns.str.strip()"
   ]
  },
  {
   "cell_type": "code",
   "execution_count": 151,
   "id": "c1045fda",
   "metadata": {},
   "outputs": [
    {
     "name": "stdout",
     "output_type": "stream",
     "text": [
      "The number of duplicate rows:  115\n",
      "The duplicates have been dropped \n",
      "\n",
      "New Data Shape:  (49885, 10)\n"
     ]
    }
   ],
   "source": [
    "#check if there are duplicates, if so remove them\n",
    "dups = data.duplicated()\n",
    "\n",
    "if dups.sum() == 0:\n",
    "    print('There are no duplicates')\n",
    "    \n",
    "else:\n",
    "    print('The number of duplicate rows: ', dups.sum())\n",
    "    data = data.drop_duplicates()\n",
    "    print('The duplicates have been dropped \\n')\n",
    "    print('New Data Shape: ', data.shape)"
   ]
  },
  {
   "cell_type": "code",
   "execution_count": 152,
   "id": "5ee21c76",
   "metadata": {
    "scrolled": true
   },
   "outputs": [
    {
     "name": "stdout",
     "output_type": "stream",
     "text": [
      "Number of instances = 49885\n",
      "Number of attributes = 10\n",
      "------------------------------\n"
     ]
    },
    {
     "data": {
      "text/plain": [
       "carat        0\n",
       "cut          0\n",
       "color        0\n",
       "clarity      0\n",
       "depth      471\n",
       "table      390\n",
       "price      253\n",
       "x          221\n",
       "y          333\n",
       "z          428\n",
       "dtype: int64"
      ]
     },
     "execution_count": 152,
     "metadata": {},
     "output_type": "execute_result"
    }
   ],
   "source": [
    "#Print the number of missing values\n",
    "print('Number of instances = %d\\nNumber of attributes = %d' % (data.shape[0], data.shape[1]))\n",
    "print('------------------------------')\n",
    "data.isnull().sum()"
   ]
  },
  {
   "cell_type": "code",
   "execution_count": 153,
   "id": "496741a9",
   "metadata": {},
   "outputs": [
    {
     "name": "stdout",
     "output_type": "stream",
     "text": [
      "New Data Shape:  (49632, 10)\n"
     ]
    }
   ],
   "source": [
    "#Since the price is the dependent variable, we will drop any rows that have a null value\n",
    "data = data.dropna(axis = 'rows', subset = ['price'])\n",
    "print('New Data Shape: ', data.shape)"
   ]
  },
  {
   "cell_type": "code",
   "execution_count": 154,
   "id": "a2730d59",
   "metadata": {},
   "outputs": [
    {
     "data": {
      "text/plain": [
       "carat      0\n",
       "cut        0\n",
       "color      0\n",
       "clarity    0\n",
       "depth      0\n",
       "table      0\n",
       "price      0\n",
       "x          0\n",
       "y          0\n",
       "z          0\n",
       "dtype: int64"
      ]
     },
     "execution_count": 154,
     "metadata": {},
     "output_type": "execute_result"
    }
   ],
   "source": [
    "#impute missing values with median\n",
    "data = data.fillna(data.median())\n",
    "data.isnull().sum()"
   ]
  },
  {
   "cell_type": "code",
   "execution_count": 155,
   "id": "73cdc83f",
   "metadata": {
    "scrolled": true
   },
   "outputs": [
    {
     "name": "stdout",
     "output_type": "stream",
     "text": [
      "Breakdown of the non-integer 4 Cs\n",
      "\n",
      " color\n",
      "D     6209\n",
      "E     9004\n",
      "F     8769\n",
      "G    10419\n",
      "H     7640\n",
      "I     4999\n",
      "J     2592\n",
      "dtype: int64\n",
      "\n",
      " cut\n",
      "Fair          1467\n",
      "Good          4520\n",
      "Ideal        19757\n",
      "Premium      12745\n",
      "Very Geod     2232\n",
      "Very Good     8911\n",
      "dtype: int64\n",
      "\n",
      " clarity\n",
      "I1        688\n",
      "IF       1650\n",
      "SI1     12029\n",
      "SI2      8412\n",
      "VS1      7519\n",
      "VS2     11320\n",
      "VVS1     3359\n",
      "VVS2     4655\n",
      "dtype: int64\n"
     ]
    }
   ],
   "source": [
    "#Find typos and categories of the non-integer groups\n",
    "print('Breakdown of the non-integer 4 Cs')\n",
    "print('\\n', data.groupby('color').size())\n",
    "print('\\n', data.groupby('cut').size())\n",
    "print('\\n', data.groupby('clarity').size())"
   ]
  },
  {
   "cell_type": "code",
   "execution_count": 156,
   "id": "aa40ac01",
   "metadata": {
    "scrolled": true
   },
   "outputs": [
    {
     "data": {
      "text/plain": [
       "cut\n",
       "Fair          1467\n",
       "Good          4520\n",
       "Ideal        19757\n",
       "Premium      12745\n",
       "Very Good    11143\n",
       "dtype: int64"
      ]
     },
     "execution_count": 156,
     "metadata": {},
     "output_type": "execute_result"
    }
   ],
   "source": [
    "#Replace typo values with real values\n",
    "data = data.replace('Very Geod', 'Very Good')\n",
    "data.groupby('cut').size()"
   ]
  },
  {
   "cell_type": "code",
   "execution_count": 172,
   "id": "a30078b6",
   "metadata": {},
   "outputs": [],
   "source": [
    "#Since cut, color, and clarity are ordinal, we can numerically place each value on a scale\n",
    "#We will use a scale of: \n",
    "#0 - 6 for color (0 = J and 6 = D)\n",
    "#0 - 4 for cut (0 = fair and 4 = Ideal)\n",
    "#0 - 7 for clarity (0 = I1 and 7 = IF)\n",
    "\n",
    "#color\n",
    "data = data.replace('D', '6')\n",
    "data = data.replace('E', '5')\n",
    "data = data.replace('F', '4')\n",
    "data = data.replace('G', '3')\n",
    "data = data.replace('H', '2')\n",
    "data = data.replace('I', '1')\n",
    "data = data.replace('J', '0')\n",
    "\n",
    "#cut\n",
    "data = data.replace('Ideal', '4')\n",
    "data = data.replace('Premium', '3')\n",
    "data = data.replace('Very Good', '2')\n",
    "data = data.replace('Good', '1')\n",
    "data = data.replace('Fair', '0')\n",
    "\n",
    "#clarity\n",
    "data = data.replace('IF', '7')\n",
    "data = data.replace('VVS1', '6')\n",
    "data = data.replace('VVS2', '5')\n",
    "data = data.replace('VS1', '4')\n",
    "data = data.replace('VS2', '3')\n",
    "data = data.replace('SI1', '2')\n",
    "data = data.replace('SI2', '1')\n",
    "data = data.replace('I1', '0')"
   ]
  },
  {
   "cell_type": "markdown",
   "id": "b1b188de",
   "metadata": {},
   "source": [
    "## Discover outliers and eliminate them"
   ]
  },
  {
   "cell_type": "code",
   "execution_count": 157,
   "id": "ddbabf01",
   "metadata": {},
   "outputs": [
    {
     "data": {
      "image/png": "[encoded data removed]",
      "text/plain": [
       "<Figure size 432x432 with 9 Axes>"
      ]
     },
     "metadata": {
      "needs_background": "light"
     },
     "output_type": "display_data"
    }
   ],
   "source": [
    "#Histogram of numerical values\n",
    "data[['carat', 'depth', 'table', 'price', 'x', 'y','z']].hist(figsize=(6, 6), bins=10, alpha = 0.75, color = 'y')\n",
    "plt.tight_layout()\n",
    "plt.show()"
   ]
  },
  {
   "cell_type": "code",
   "execution_count": 159,
   "id": "b0174c44",
   "metadata": {},
   "outputs": [
    {
     "data": {
      "text/plain": [
       "<AxesSubplot:>"
      ]
     },
     "execution_count": 159,
     "metadata": {},
     "output_type": "execute_result"
    },
    {
     "data": {
      "image/png": "[encoded data removed]",
      "text/plain": [
       "<Figure size 432x288 with 1 Axes>"
      ]
     },
     "metadata": {
      "needs_background": "light"
     },
     "output_type": "display_data"
    }
   ],
   "source": [
    "data.boxplot()"
   ]
  },
  {
   "cell_type": "code",
   "execution_count": 161,
   "id": "f2ea6cba",
   "metadata": {
    "scrolled": false
   },
   "outputs": [
    {
     "data": {
      "text/plain": [
       "<AxesSubplot:>"
      ]
     },
     "execution_count": 161,
     "metadata": {},
     "output_type": "execute_result"
    },
    {
     "data": {
      "image/png": "[encoded data removed]",
      "text/plain": [
       "<Figure size 432x288 with 1 Axes>"
      ]
     },
     "metadata": {
      "needs_background": "light"
     },
     "output_type": "display_data"
    }
   ],
   "source": [
    "#Eliminate Outliers using a Standard Deviation model\n",
    "for colName in data.columns:\n",
    "    if data[colName].dtype == 'float64':\n",
    "        mean = np.mean(data[colName])\n",
    "        stdev = np.std(data[colName])\n",
    "        cutoff = 3*stdev #using 3 standard deviations for outliers\n",
    "        lower_range = mean - cutoff\n",
    "        upper_range = mean + cutoff\n",
    "        data = data[(data[colName] < upper_range) & (data[colName] > lower_range)]\n",
    "        \n",
    "\n",
    "#Graph a boxplot to visualize outliers \n",
    "data.boxplot()"
   ]
  },
  {
   "cell_type": "code",
   "execution_count": 162,
   "id": "ad80ac6a",
   "metadata": {
    "scrolled": true
   },
   "outputs": [
    {
     "data": {
      "image/png": "[encoded data removed]",
      "text/plain": [
       "<Figure size 432x432 with 9 Axes>"
      ]
     },
     "metadata": {
      "needs_background": "light"
     },
     "output_type": "display_data"
    }
   ],
   "source": [
    "#Histogram of numerical values\n",
    "data[['carat', 'depth', 'table', 'price', 'x', 'y','z']].hist(figsize=(6, 6), bins=10, alpha = 0.75, color = 'y')\n",
    "plt.tight_layout()\n",
    "plt.show()"
   ]
  },
  {
   "cell_type": "code",
   "execution_count": 170,
   "id": "064fd060",
   "metadata": {
    "scrolled": true
   },
   "outputs": [
    {
     "data": {
      "text/html": [
       "<div>\n",
       "<style scoped>\n",
       "    .dataframe tbody tr th:only-of-type {\n",
       "        vertical-align: middle;\n",
       "    }\n",
       "\n",
       "    .dataframe tbody tr th {\n",
       "        vertical-align: top;\n",
       "    }\n",
       "\n",
       "    .dataframe thead th {\n",
       "        text-align: right;\n",
       "    }\n",
       "</style>\n",
       "<table border=\"1\" class=\"dataframe\">\n",
       "  <thead>\n",
       "    <tr style=\"text-align: right;\">\n",
       "      <th></th>\n",
       "      <th>carat</th>\n",
       "      <th>depth</th>\n",
       "      <th>table</th>\n",
       "      <th>price</th>\n",
       "      <th>x</th>\n",
       "      <th>y</th>\n",
       "      <th>z</th>\n",
       "    </tr>\n",
       "  </thead>\n",
       "  <tbody>\n",
       "    <tr>\n",
       "      <th>carat</th>\n",
       "      <td>1.000000</td>\n",
       "      <td>0.024635</td>\n",
       "      <td>0.186390</td>\n",
       "      <td>0.923427</td>\n",
       "      <td>0.979071</td>\n",
       "      <td>0.977000</td>\n",
       "      <td>0.976122</td>\n",
       "    </tr>\n",
       "    <tr>\n",
       "      <th>depth</th>\n",
       "      <td>0.024635</td>\n",
       "      <td>1.000000</td>\n",
       "      <td>-0.278981</td>\n",
       "      <td>-0.002870</td>\n",
       "      <td>-0.024448</td>\n",
       "      <td>-0.027039</td>\n",
       "      <td>0.086871</td>\n",
       "    </tr>\n",
       "    <tr>\n",
       "      <th>table</th>\n",
       "      <td>0.186390</td>\n",
       "      <td>-0.278981</td>\n",
       "      <td>1.000000</td>\n",
       "      <td>0.132597</td>\n",
       "      <td>0.193324</td>\n",
       "      <td>0.188575</td>\n",
       "      <td>0.159230</td>\n",
       "    </tr>\n",
       "    <tr>\n",
       "      <th>price</th>\n",
       "      <td>0.923427</td>\n",
       "      <td>-0.002870</td>\n",
       "      <td>0.132597</td>\n",
       "      <td>1.000000</td>\n",
       "      <td>0.890439</td>\n",
       "      <td>0.890609</td>\n",
       "      <td>0.886040</td>\n",
       "    </tr>\n",
       "    <tr>\n",
       "      <th>x</th>\n",
       "      <td>0.979071</td>\n",
       "      <td>-0.024448</td>\n",
       "      <td>0.193324</td>\n",
       "      <td>0.890439</td>\n",
       "      <td>1.000000</td>\n",
       "      <td>0.993214</td>\n",
       "      <td>0.986397</td>\n",
       "    </tr>\n",
       "    <tr>\n",
       "      <th>y</th>\n",
       "      <td>0.977000</td>\n",
       "      <td>-0.027039</td>\n",
       "      <td>0.188575</td>\n",
       "      <td>0.890609</td>\n",
       "      <td>0.993214</td>\n",
       "      <td>1.000000</td>\n",
       "      <td>0.984905</td>\n",
       "    </tr>\n",
       "    <tr>\n",
       "      <th>z</th>\n",
       "      <td>0.976122</td>\n",
       "      <td>0.086871</td>\n",
       "      <td>0.159230</td>\n",
       "      <td>0.886040</td>\n",
       "      <td>0.986397</td>\n",
       "      <td>0.984905</td>\n",
       "      <td>1.000000</td>\n",
       "    </tr>\n",
       "  </tbody>\n",
       "</table>\n",
       "</div>"
      ],
      "text/plain": [
       "          carat     depth     table     price         x         y         z\n",
       "carat  1.000000  0.024635  0.186390  0.923427  0.979071  0.977000  0.976122\n",
       "depth  0.024635  1.000000 -0.278981 -0.002870 -0.024448 -0.027039  0.086871\n",
       "table  0.186390 -0.278981  1.000000  0.132597  0.193324  0.188575  0.159230\n",
       "price  0.923427 -0.002870  0.132597  1.000000  0.890439  0.890609  0.886040\n",
       "x      0.979071 -0.024448  0.193324  0.890439  1.000000  0.993214  0.986397\n",
       "y      0.977000 -0.027039  0.188575  0.890609  0.993214  1.000000  0.984905\n",
       "z      0.976122  0.086871  0.159230  0.886040  0.986397  0.984905  1.000000"
      ]
     },
     "execution_count": 170,
     "metadata": {},
     "output_type": "execute_result"
    }
   ],
   "source": [
    "#Determine the correlations of each numerical feature\n",
    "corr = data.corr()\n",
    "corr"
   ]
  },
  {
   "cell_type": "markdown",
   "id": "b5461506",
   "metadata": {},
   "source": [
    "Price has the strongest correlation with carat and the x, y, and z dimensions. Carat also has a strong positive correlation with the x, y, and z dimnesions, likely because, as the weight of the diamond increases, so does the general size. Overall, the depth and table have very weak correlation with any of the other features except for each other; which is a weak negative correlation."
   ]
  },
  {
   "cell_type": "code",
   "execution_count": 173,
   "id": "618c2a4b",
   "metadata": {},
   "outputs": [
    {
     "data": {
      "text/html": [
       "<div>\n",
       "<style scoped>\n",
       "    .dataframe tbody tr th:only-of-type {\n",
       "        vertical-align: middle;\n",
       "    }\n",
       "\n",
       "    .dataframe tbody tr th {\n",
       "        vertical-align: top;\n",
       "    }\n",
       "\n",
       "    .dataframe thead th {\n",
       "        text-align: right;\n",
       "    }\n",
       "</style>\n",
       "<table border=\"1\" class=\"dataframe\">\n",
       "  <thead>\n",
       "    <tr style=\"text-align: right;\">\n",
       "      <th></th>\n",
       "      <th>carat</th>\n",
       "      <th>depth</th>\n",
       "      <th>table</th>\n",
       "      <th>price</th>\n",
       "      <th>x</th>\n",
       "      <th>y</th>\n",
       "      <th>z</th>\n",
       "    </tr>\n",
       "  </thead>\n",
       "  <tbody>\n",
       "    <tr>\n",
       "      <th>count</th>\n",
       "      <td>47495.000000</td>\n",
       "      <td>47495.000000</td>\n",
       "      <td>47495.000000</td>\n",
       "      <td>47495.000000</td>\n",
       "      <td>47495.000000</td>\n",
       "      <td>47495.000000</td>\n",
       "      <td>47495.000000</td>\n",
       "    </tr>\n",
       "    <tr>\n",
       "      <th>mean</th>\n",
       "      <td>0.765601</td>\n",
       "      <td>61.750418</td>\n",
       "      <td>57.377374</td>\n",
       "      <td>3627.273797</td>\n",
       "      <td>5.668691</td>\n",
       "      <td>5.671593</td>\n",
       "      <td>3.502008</td>\n",
       "    </tr>\n",
       "    <tr>\n",
       "      <th>std</th>\n",
       "      <td>0.433677</td>\n",
       "      <td>1.264338</td>\n",
       "      <td>2.099031</td>\n",
       "      <td>3490.491000</td>\n",
       "      <td>1.065867</td>\n",
       "      <td>1.057574</td>\n",
       "      <td>0.656712</td>\n",
       "    </tr>\n",
       "    <tr>\n",
       "      <th>min</th>\n",
       "      <td>0.200000</td>\n",
       "      <td>57.500000</td>\n",
       "      <td>51.000000</td>\n",
       "      <td>326.000000</td>\n",
       "      <td>3.730000</td>\n",
       "      <td>3.680000</td>\n",
       "      <td>1.530000</td>\n",
       "    </tr>\n",
       "    <tr>\n",
       "      <th>25%</th>\n",
       "      <td>0.390000</td>\n",
       "      <td>61.100000</td>\n",
       "      <td>56.000000</td>\n",
       "      <td>928.000000</td>\n",
       "      <td>4.690000</td>\n",
       "      <td>4.700000</td>\n",
       "      <td>2.900000</td>\n",
       "    </tr>\n",
       "    <tr>\n",
       "      <th>50%</th>\n",
       "      <td>0.700000</td>\n",
       "      <td>61.800000</td>\n",
       "      <td>57.000000</td>\n",
       "      <td>2318.000000</td>\n",
       "      <td>5.670000</td>\n",
       "      <td>5.680000</td>\n",
       "      <td>3.510000</td>\n",
       "    </tr>\n",
       "    <tr>\n",
       "      <th>75%</th>\n",
       "      <td>1.020000</td>\n",
       "      <td>62.500000</td>\n",
       "      <td>59.000000</td>\n",
       "      <td>5094.000000</td>\n",
       "      <td>6.490000</td>\n",
       "      <td>6.490000</td>\n",
       "      <td>4.010000</td>\n",
       "    </tr>\n",
       "    <tr>\n",
       "      <th>max</th>\n",
       "      <td>2.630000</td>\n",
       "      <td>66.000000</td>\n",
       "      <td>64.000000</td>\n",
       "      <td>15934.000000</td>\n",
       "      <td>8.880000</td>\n",
       "      <td>8.810000</td>\n",
       "      <td>5.510000</td>\n",
       "    </tr>\n",
       "  </tbody>\n",
       "</table>\n",
       "</div>"
      ],
      "text/plain": [
       "              carat         depth         table         price             x  \\\n",
       "count  47495.000000  47495.000000  47495.000000  47495.000000  47495.000000   \n",
       "mean       0.765601     61.750418     57.377374   3627.273797      5.668691   \n",
       "std        0.433677      1.264338      2.099031   3490.491000      1.065867   \n",
       "min        0.200000     57.500000     51.000000    326.000000      3.730000   \n",
       "25%        0.390000     61.100000     56.000000    928.000000      4.690000   \n",
       "50%        0.700000     61.800000     57.000000   2318.000000      5.670000   \n",
       "75%        1.020000     62.500000     59.000000   5094.000000      6.490000   \n",
       "max        2.630000     66.000000     64.000000  15934.000000      8.880000   \n",
       "\n",
       "                  y             z  \n",
       "count  47495.000000  47495.000000  \n",
       "mean       5.671593      3.502008  \n",
       "std        1.057574      0.656712  \n",
       "min        3.680000      1.530000  \n",
       "25%        4.700000      2.900000  \n",
       "50%        5.680000      3.510000  \n",
       "75%        6.490000      4.010000  \n",
       "max        8.810000      5.510000  "
      ]
     },
     "execution_count": 173,
     "metadata": {},
     "output_type": "execute_result"
    }
   ],
   "source": [
    "data.describe()"
   ]
  },
  {
   "cell_type": "markdown",
   "id": "0475f6c8",
   "metadata": {},
   "source": [
    "## Multiple Regression Analysis "
   ]
  },
  {
   "cell_type": "code",
   "execution_count": 219,
   "id": "ffd48f31",
   "metadata": {},
   "outputs": [],
   "source": [
    "X = data[['carat','cut','clarity','color','depth','table','x','y','z']]\n",
    "y = np.array(data['price'])\n",
    "\n",
    "X_train, X_test, y_train, y_test = train_test_split(x, y, test_size = 0.2)"
   ]
  },
  {
   "cell_type": "code",
   "execution_count": 220,
   "id": "8d832991",
   "metadata": {},
   "outputs": [
    {
     "name": "stdout",
     "output_type": "stream",
     "text": [
      "Coefficient:  [10787.01461097    90.09990056   460.8471623    299.13652369\n",
      "   -35.64996544   -26.22729893  -728.16719977    18.76472428\n",
      "  -438.41278547]\n"
     ]
    }
   ],
   "source": [
    "model = LinearRegression()\n",
    "clf = model.fit(X,y)\n",
    "print('Coefficient: ', clf.coef_)"
   ]
  },
  {
   "cell_type": "code",
   "execution_count": 221,
   "id": "86a64b27",
   "metadata": {},
   "outputs": [
    {
     "name": "stdout",
     "output_type": "stream",
     "text": [
      "RMSE:  1023.5415598557569\n"
     ]
    }
   ],
   "source": [
    "predictions = model.predict(X)\n",
    "rmse = mean_squared_error(y, predictions, squared = False)\n",
    "print('RMSE: ', rmse)"
   ]
  },
  {
   "cell_type": "markdown",
   "id": "061cc314",
   "metadata": {},
   "source": [
    "The RMSE is lower than the price standard deviation, which means the model between carat and price is predicting some of the variability in price. "
   ]
  },
  {
   "cell_type": "code",
   "execution_count": 209,
   "id": "525d775f",
   "metadata": {},
   "outputs": [
    {
     "ename": "ValueError",
     "evalue": "x and y must be the same size",
     "output_type": "error",
     "traceback": [
      "\u001b[0;31m---------------------------------------------------------------------------\u001b[0m",
      "\u001b[0;31mValueError\u001b[0m                                Traceback (most recent call last)",
      "\u001b[0;32m<ipython-input-209-974c922e27f0>\u001b[0m in \u001b[0;36m<module>\u001b[0;34m\u001b[0m\n\u001b[0;32m----> 1\u001b[0;31m \u001b[0mplt\u001b[0m\u001b[0;34m.\u001b[0m\u001b[0mscatter\u001b[0m\u001b[0;34m(\u001b[0m\u001b[0mx\u001b[0m\u001b[0;34m,\u001b[0m\u001b[0my\u001b[0m\u001b[0;34m)\u001b[0m\u001b[0;34m\u001b[0m\u001b[0;34m\u001b[0m\u001b[0m\n\u001b[0m\u001b[1;32m      2\u001b[0m \u001b[0mplt\u001b[0m\u001b[0;34m.\u001b[0m\u001b[0mplot\u001b[0m\u001b[0;34m(\u001b[0m\u001b[0mx\u001b[0m\u001b[0;34m,\u001b[0m \u001b[0mpredictions\u001b[0m\u001b[0;34m)\u001b[0m\u001b[0;34m\u001b[0m\u001b[0;34m\u001b[0m\u001b[0m\n",
      "\u001b[0;32m/opt/anaconda3/lib/python3.8/site-packages/matplotlib/pyplot.py\u001b[0m in \u001b[0;36mscatter\u001b[0;34m(x, y, s, c, marker, cmap, norm, vmin, vmax, alpha, linewidths, verts, edgecolors, plotnonfinite, data, **kwargs)\u001b[0m\n\u001b[1;32m   2888\u001b[0m         \u001b[0mverts\u001b[0m\u001b[0;34m=\u001b[0m\u001b[0mcbook\u001b[0m\u001b[0;34m.\u001b[0m\u001b[0mdeprecation\u001b[0m\u001b[0;34m.\u001b[0m\u001b[0m_deprecated_parameter\u001b[0m\u001b[0;34m,\u001b[0m\u001b[0;34m\u001b[0m\u001b[0;34m\u001b[0m\u001b[0m\n\u001b[1;32m   2889\u001b[0m         edgecolors=None, *, plotnonfinite=False, data=None, **kwargs):\n\u001b[0;32m-> 2890\u001b[0;31m     __ret = gca().scatter(\n\u001b[0m\u001b[1;32m   2891\u001b[0m         \u001b[0mx\u001b[0m\u001b[0;34m,\u001b[0m \u001b[0my\u001b[0m\u001b[0;34m,\u001b[0m \u001b[0ms\u001b[0m\u001b[0;34m=\u001b[0m\u001b[0ms\u001b[0m\u001b[0;34m,\u001b[0m \u001b[0mc\u001b[0m\u001b[0;34m=\u001b[0m\u001b[0mc\u001b[0m\u001b[0;34m,\u001b[0m \u001b[0mmarker\u001b[0m\u001b[0;34m=\u001b[0m\u001b[0mmarker\u001b[0m\u001b[0;34m,\u001b[0m \u001b[0mcmap\u001b[0m\u001b[0;34m=\u001b[0m\u001b[0mcmap\u001b[0m\u001b[0;34m,\u001b[0m \u001b[0mnorm\u001b[0m\u001b[0;34m=\u001b[0m\u001b[0mnorm\u001b[0m\u001b[0;34m,\u001b[0m\u001b[0;34m\u001b[0m\u001b[0;34m\u001b[0m\u001b[0m\n\u001b[1;32m   2892\u001b[0m         \u001b[0mvmin\u001b[0m\u001b[0;34m=\u001b[0m\u001b[0mvmin\u001b[0m\u001b[0;34m,\u001b[0m \u001b[0mvmax\u001b[0m\u001b[0;34m=\u001b[0m\u001b[0mvmax\u001b[0m\u001b[0;34m,\u001b[0m \u001b[0malpha\u001b[0m\u001b[0;34m=\u001b[0m\u001b[0malpha\u001b[0m\u001b[0;34m,\u001b[0m \u001b[0mlinewidths\u001b[0m\u001b[0;34m=\u001b[0m\u001b[0mlinewidths\u001b[0m\u001b[0;34m,\u001b[0m\u001b[0;34m\u001b[0m\u001b[0;34m\u001b[0m\u001b[0m\n",
      "\u001b[0;32m/opt/anaconda3/lib/python3.8/site-packages/matplotlib/__init__.py\u001b[0m in \u001b[0;36minner\u001b[0;34m(ax, data, *args, **kwargs)\u001b[0m\n\u001b[1;32m   1445\u001b[0m     \u001b[0;32mdef\u001b[0m \u001b[0minner\u001b[0m\u001b[0;34m(\u001b[0m\u001b[0max\u001b[0m\u001b[0;34m,\u001b[0m \u001b[0;34m*\u001b[0m\u001b[0margs\u001b[0m\u001b[0;34m,\u001b[0m \u001b[0mdata\u001b[0m\u001b[0;34m=\u001b[0m\u001b[0;32mNone\u001b[0m\u001b[0;34m,\u001b[0m \u001b[0;34m**\u001b[0m\u001b[0mkwargs\u001b[0m\u001b[0;34m)\u001b[0m\u001b[0;34m:\u001b[0m\u001b[0;34m\u001b[0m\u001b[0;34m\u001b[0m\u001b[0m\n\u001b[1;32m   1446\u001b[0m         \u001b[0;32mif\u001b[0m \u001b[0mdata\u001b[0m \u001b[0;32mis\u001b[0m \u001b[0;32mNone\u001b[0m\u001b[0;34m:\u001b[0m\u001b[0;34m\u001b[0m\u001b[0;34m\u001b[0m\u001b[0m\n\u001b[0;32m-> 1447\u001b[0;31m             \u001b[0;32mreturn\u001b[0m \u001b[0mfunc\u001b[0m\u001b[0;34m(\u001b[0m\u001b[0max\u001b[0m\u001b[0;34m,\u001b[0m \u001b[0;34m*\u001b[0m\u001b[0mmap\u001b[0m\u001b[0;34m(\u001b[0m\u001b[0msanitize_sequence\u001b[0m\u001b[0;34m,\u001b[0m \u001b[0margs\u001b[0m\u001b[0;34m)\u001b[0m\u001b[0;34m,\u001b[0m \u001b[0;34m**\u001b[0m\u001b[0mkwargs\u001b[0m\u001b[0;34m)\u001b[0m\u001b[0;34m\u001b[0m\u001b[0;34m\u001b[0m\u001b[0m\n\u001b[0m\u001b[1;32m   1448\u001b[0m \u001b[0;34m\u001b[0m\u001b[0m\n\u001b[1;32m   1449\u001b[0m         \u001b[0mbound\u001b[0m \u001b[0;34m=\u001b[0m \u001b[0mnew_sig\u001b[0m\u001b[0;34m.\u001b[0m\u001b[0mbind\u001b[0m\u001b[0;34m(\u001b[0m\u001b[0max\u001b[0m\u001b[0;34m,\u001b[0m \u001b[0;34m*\u001b[0m\u001b[0margs\u001b[0m\u001b[0;34m,\u001b[0m \u001b[0;34m**\u001b[0m\u001b[0mkwargs\u001b[0m\u001b[0;34m)\u001b[0m\u001b[0;34m\u001b[0m\u001b[0;34m\u001b[0m\u001b[0m\n",
      "\u001b[0;32m/opt/anaconda3/lib/python3.8/site-packages/matplotlib/cbook/deprecation.py\u001b[0m in \u001b[0;36mwrapper\u001b[0;34m(*inner_args, **inner_kwargs)\u001b[0m\n\u001b[1;32m    409\u001b[0m                          \u001b[0;32melse\u001b[0m \u001b[0mdeprecation_addendum\u001b[0m\u001b[0;34m,\u001b[0m\u001b[0;34m\u001b[0m\u001b[0;34m\u001b[0m\u001b[0m\n\u001b[1;32m    410\u001b[0m                 **kwargs)\n\u001b[0;32m--> 411\u001b[0;31m         \u001b[0;32mreturn\u001b[0m \u001b[0mfunc\u001b[0m\u001b[0;34m(\u001b[0m\u001b[0;34m*\u001b[0m\u001b[0minner_args\u001b[0m\u001b[0;34m,\u001b[0m \u001b[0;34m**\u001b[0m\u001b[0minner_kwargs\u001b[0m\u001b[0;34m)\u001b[0m\u001b[0;34m\u001b[0m\u001b[0;34m\u001b[0m\u001b[0m\n\u001b[0m\u001b[1;32m    412\u001b[0m \u001b[0;34m\u001b[0m\u001b[0m\n\u001b[1;32m    413\u001b[0m     \u001b[0;32mreturn\u001b[0m \u001b[0mwrapper\u001b[0m\u001b[0;34m\u001b[0m\u001b[0;34m\u001b[0m\u001b[0m\n",
      "\u001b[0;32m/opt/anaconda3/lib/python3.8/site-packages/matplotlib/axes/_axes.py\u001b[0m in \u001b[0;36mscatter\u001b[0;34m(self, x, y, s, c, marker, cmap, norm, vmin, vmax, alpha, linewidths, verts, edgecolors, plotnonfinite, **kwargs)\u001b[0m\n\u001b[1;32m   4439\u001b[0m         \u001b[0my\u001b[0m \u001b[0;34m=\u001b[0m \u001b[0mnp\u001b[0m\u001b[0;34m.\u001b[0m\u001b[0mma\u001b[0m\u001b[0;34m.\u001b[0m\u001b[0mravel\u001b[0m\u001b[0;34m(\u001b[0m\u001b[0my\u001b[0m\u001b[0;34m)\u001b[0m\u001b[0;34m\u001b[0m\u001b[0;34m\u001b[0m\u001b[0m\n\u001b[1;32m   4440\u001b[0m         \u001b[0;32mif\u001b[0m \u001b[0mx\u001b[0m\u001b[0;34m.\u001b[0m\u001b[0msize\u001b[0m \u001b[0;34m!=\u001b[0m \u001b[0my\u001b[0m\u001b[0;34m.\u001b[0m\u001b[0msize\u001b[0m\u001b[0;34m:\u001b[0m\u001b[0;34m\u001b[0m\u001b[0;34m\u001b[0m\u001b[0m\n\u001b[0;32m-> 4441\u001b[0;31m             \u001b[0;32mraise\u001b[0m \u001b[0mValueError\u001b[0m\u001b[0;34m(\u001b[0m\u001b[0;34m\"x and y must be the same size\"\u001b[0m\u001b[0;34m)\u001b[0m\u001b[0;34m\u001b[0m\u001b[0;34m\u001b[0m\u001b[0m\n\u001b[0m\u001b[1;32m   4442\u001b[0m \u001b[0;34m\u001b[0m\u001b[0m\n\u001b[1;32m   4443\u001b[0m         \u001b[0;32mif\u001b[0m \u001b[0ms\u001b[0m \u001b[0;32mis\u001b[0m \u001b[0;32mNone\u001b[0m\u001b[0;34m:\u001b[0m\u001b[0;34m\u001b[0m\u001b[0;34m\u001b[0m\u001b[0m\n",
      "\u001b[0;31mValueError\u001b[0m: x and y must be the same size"
     ]
    },
    {
     "data": {
      "image/png": "[encoded data removed]",
      "text/plain": [
       "<Figure size 576x576 with 1 Axes>"
      ]
     },
     "metadata": {
      "needs_background": "light"
     },
     "output_type": "display_data"
    }
   ],
   "source": [
    "plt.scatter(x,y)\n",
    "plt.plot(x, predictions)"
   ]
  },
  {
   "cell_type": "code",
   "execution_count": 223,
   "id": "8132bb9d",
   "metadata": {},
   "outputs": [
    {
     "ename": "TypeError",
     "evalue": "scatter() missing 1 required positional argument: 'y'",
     "output_type": "error",
     "traceback": [
      "\u001b[0;31m---------------------------------------------------------------------------\u001b[0m",
      "\u001b[0;31mTypeError\u001b[0m                                 Traceback (most recent call last)",
      "\u001b[0;32m<ipython-input-223-12832e07cbbe>\u001b[0m in \u001b[0;36m<module>\u001b[0;34m\u001b[0m\n\u001b[0;32m----> 1\u001b[0;31m \u001b[0mplt\u001b[0m\u001b[0;34m.\u001b[0m\u001b[0mscatter\u001b[0m\u001b[0;34m(\u001b[0m\u001b[0mdata\u001b[0m\u001b[0;34m[\u001b[0m\u001b[0;34m'carat'\u001b[0m\u001b[0;34m]\u001b[0m\u001b[0;34m)\u001b[0m\u001b[0;34m\u001b[0m\u001b[0;34m\u001b[0m\u001b[0m\n\u001b[0m",
      "\u001b[0;31mTypeError\u001b[0m: scatter() missing 1 required positional argument: 'y'"
     ]
    }
   ],
   "source": [
    "plt.scatter(data['carat'])"
   ]
  },
  {
   "cell_type": "code",
   "execution_count": null,
   "id": "597ed4ed",
   "metadata": {},
   "outputs": [],
   "source": []
  }
 ],
 "metadata": {
  "kernelspec": {
   "display_name": "Python 3",
   "language": "python",
   "name": "python3"
  },
  "language_info": {
   "codemirror_mode": {
    "name": "ipython",
    "version": 3
   },
   "file_extension": ".py",
   "mimetype": "text/x-python",
   "name": "python",
   "nbconvert_exporter": "python",
   "pygments_lexer": "ipython3",
   "version": "3.8.8"
  }
 },
 "nbformat": 4,
 "nbformat_minor": 5
}
